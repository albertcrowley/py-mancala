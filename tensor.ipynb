{
 "cells": [
  {
   "cell_type": "code",
   "execution_count": null,
   "metadata": {},
   "outputs": [],
   "source": []
  },
  {
   "cell_type": "code",
   "execution_count": 11,
   "metadata": {},
   "outputs": [
    {
     "name": "stdout",
     "output_type": "stream",
     "text": [
      "[<tensorflow.python.keras.engine.input_layer.InputLayer object at 0x7fe0408dcac8>, <tensorflow.python.keras.layers.core.Dense object at 0x7fe0408dcb00>, <tensorflow.python.keras.layers.core.Dense object at 0x7fdfc43b0128>, <tensorflow.python.keras.layers.core.Dense object at 0x7fdfc43b0668>]\n",
      "<tensorflow.python.keras.engine.training.Model object at 0x7fdfc43b0e80>\n"
     ]
    }
   ],
   "source": [
    "from tensorflow.keras.models import Sequential\n",
    "from tensorflow.keras.layers import Dense\n",
    "import tensorflow\n",
    "\n",
    "def create_model(hidden_node_count = 28, hidden_node_count2 = 28):\n",
    "    input_layer = tensorflow.keras.Input(shape=(14,))\n",
    "    \n",
    "\n",
    "    hidden_layer = Dense(hidden_node_count)(input_layer)\n",
    "    hidden_layer2 = Dense(hidden_node_count2)(hidden_layer)\n",
    "\n",
    "    output_layer = Dense(6, activation='softmax')(hidden_layer2)\n",
    "    \n",
    "    model = tensorflow.keras.Model(inputs=input_layer, outputs=output_layer)\n",
    "\n",
    "    return model\n",
    "\n",
    "model = create_model()\n",
    "print (model.layers)\n",
    "print (model)\n"
   ]
  },
  {
   "cell_type": "code",
   "execution_count": null,
   "metadata": {},
   "outputs": [],
   "source": []
  },
  {
   "cell_type": "code",
   "execution_count": 6,
   "metadata": {},
   "outputs": [
    {
     "name": "stdout",
     "output_type": "stream",
     "text": [
      "predict ready\n"
     ]
    }
   ],
   "source": [
    "def predict (inputs, model):\n",
    "    ys = model.predict([inputs])\n",
    "#    print (inputs)\n",
    "#    print (ys)\n",
    "    move = -1\n",
    "    best = 0\n",
    "    for i in range( len(ys[0])):\n",
    "        if ys[0][i] > best:\n",
    "            best = ys[0][i]\n",
    "            move = i\n",
    "\n",
    "#    print (\"move is {} out of {}\".format(move, len(ys[0])))\n",
    "    return (move, best)\n",
    "\n",
    "print (\"predict ready\")\n"
   ]
  },
  {
   "cell_type": "code",
   "execution_count": 34,
   "metadata": {},
   "outputs": [
    {
     "data": {
      "text/plain": [
       "array([[4.1406505e-08, 9.2125237e-01, 5.1303579e-09, 7.6891012e-02,\n",
       "        4.6527300e-13, 1.8566394e-03]], dtype=float32)"
      ]
     },
     "execution_count": 34,
     "metadata": {},
     "output_type": "execute_result"
    }
   ],
   "source": [
    "model.predict([  [1,2,3,4,5,6,7,8,9,10,11,12,13,14] ] )"
   ]
  },
  {
   "cell_type": "code",
   "execution_count": 8,
   "metadata": {},
   "outputs": [
    {
     "name": "stdout",
     "output_type": "stream",
     "text": [
      "[3, 4, 0, 1]\n",
      "[2, 1, 0, 4]\n",
      "[5, 3, 4, 1]\n",
      "[1, 2]\n",
      "[4, 22, 17, 17, 10, 10]\n",
      "---\n",
      "average distincts: 3.5\n",
      "[0, 0, 1, 0, 3, 0, 0]\n"
     ]
    }
   ],
   "source": [
    "import random\n",
    "\n",
    "cycles = 4\n",
    "avg = 0\n",
    "count_mt = [0,0,0,0,0,0,0]\n",
    "move_stats = [0,0,0,0,0,0]\n",
    "for ll in range(cycles):\n",
    "    model = create_model(30,30)\n",
    "\n",
    "    \n",
    "    moves_taken = []\n",
    "    for l in range(20):\n",
    "        inputs = []\n",
    "        for i in range(14):\n",
    "            r = random.random()\n",
    "            inputs.append( r )\n",
    "\n",
    "        (prediction, score) = predict (inputs, model)\n",
    "\n",
    "        if not prediction in moves_taken:\n",
    "            moves_taken.append(prediction)\n",
    "        move_stats[prediction] += 1\n",
    "#        print (\"best move is {} with score of {}\".format(prediction, score))\n",
    "    print (moves_taken)\n",
    "    mt = len(moves_taken)\n",
    "    avg = avg + mt\n",
    "    count_mt[mt] += 1\n",
    "\n",
    "print (move_stats)\n",
    "print (\"---\")\n",
    "print (\"average distincts: {}\".format(avg/cycles))\n",
    "print (count_mt)\n"
   ]
  },
  {
   "cell_type": "code",
   "execution_count": 14,
   "metadata": {
    "scrolled": false
   },
   "outputs": [
    {
     "name": "stdout",
     "output_type": "stream",
     "text": [
      "[<tensorflow.python.keras.engine.input_layer.InputLayer object at 0x7fe0408dcac8>, <tensorflow.python.keras.layers.core.Dense object at 0x7fe0408dcb00>, <tensorflow.python.keras.layers.core.Dense object at 0x7fdfc43b0128>, <tensorflow.python.keras.layers.core.Dense object at 0x7fdfc43b0668>]\n",
      "(4, 0.27869815)\n"
     ]
    }
   ],
   "source": [
    "print (model.layers)\n",
    "[in_layer,hidden,hidden2,out] = model.layers\n",
    "h_weight = hidden.get_weights()\n",
    "o_weight = out.get_weights()\n",
    "\n",
    "model2 = create_model()\n",
    "model2.layers[1].set_weights(h_weight)\n",
    "model2.layers[3].set_weights(o_weight)\n",
    "\n",
    "print (predict(inputs,model2))\n",
    "\n",
    "\n"
   ]
  },
  {
   "cell_type": "code",
   "execution_count": 15,
   "metadata": {},
   "outputs": [
    {
     "name": "stdout",
     "output_type": "stream",
     "text": [
      "Calculating best move...\n",
      "Calculated in 6.9s\n"
     ]
    },
    {
     "data": {
      "text/plain": [
       "[([3, 6], 4)]"
      ]
     },
     "execution_count": 15,
     "metadata": {},
     "output_type": "execute_result"
    }
   ],
   "source": [
    "import mancala\n",
    "board =  mancala.Board()\n",
    "board.find_best_move()"
   ]
  },
  {
   "cell_type": "code",
   "execution_count": 16,
   "metadata": {},
   "outputs": [
    {
     "name": "stdout",
     "output_type": "stream",
     "text": [
      "   4| 4| 4| 4| 4| 5\n",
      " 0                   1\n",
      "   4| 4| 4| 0| 5| 5\n"
     ]
    }
   ],
   "source": [
    " board.make_player_move(3)\n",
    "board.print()"
   ]
  },
  {
   "cell_type": "code",
   "execution_count": null,
   "metadata": {},
   "outputs": [],
   "source": [
    "from PIL import Image\n",
    "from PIL import ImageDraw\n",
    "i = Image.new(\"RGB\", (400,400))\n",
    "draw = ImageDraw.Draw(i)\n",
    "draw.line( (0,0, 400,400), fill='white')\n",
    "draw.line( (0,400, 400,0), fill=128)\n",
    "draw.ellipse( [(100,100),(200,200)], fill='green')\n",
    "del draw\n",
    "\n",
    "i"
   ]
  },
  {
   "cell_type": "markdown",
   "metadata": {},
   "source": [
    "# Reset\n",
    "\n",
    "Now try the above using the Brain class."
   ]
  },
  {
   "cell_type": "code",
   "execution_count": 17,
   "metadata": {},
   "outputs": [
    {
     "name": "stdout",
     "output_type": "stream",
     "text": [
      "   4| 4| 4| 4| 4| 4\n",
      " 0                   0\n",
      "   4| 4| 4| 4| 4| 4\n"
     ]
    }
   ],
   "source": [
    "from mancala import Board\n",
    "from brain import Brain\n",
    "\n",
    "board = Board()\n",
    "board.print()\n",
    "\n",
    "brain1 = Brain(1)\n",
    "brain2 = Brain(board)\n"
   ]
  },
  {
   "cell_type": "code",
   "execution_count": 27,
   "metadata": {},
   "outputs": [
    {
     "data": {
      "text/plain": [
       "[0.2, 0.3, 0.1, 0.8, 0.0, 0.3]"
      ]
     },
     "execution_count": 27,
     "metadata": {},
     "output_type": "execute_result"
    }
   ],
   "source": [
    "# Normalize\n",
    "\n",
    "x = [2,3,1,8,0,3] \n",
    "[ min(1, a/10.0) for a in x]"
   ]
  }
 ],
 "metadata": {
  "kernelspec": {
   "display_name": "Python 3",
   "language": "python",
   "name": "python3"
  },
  "language_info": {
   "codemirror_mode": {
    "name": "ipython",
    "version": 3
   },
   "file_extension": ".py",
   "mimetype": "text/x-python",
   "name": "python",
   "nbconvert_exporter": "python",
   "pygments_lexer": "ipython3",
   "version": "3.6.10"
  }
 },
 "nbformat": 4,
 "nbformat_minor": 2
}
